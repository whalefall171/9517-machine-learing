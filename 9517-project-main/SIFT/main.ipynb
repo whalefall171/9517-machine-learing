{
 "cells": [
  {
   "cell_type": "code",
   "execution_count": 1,
   "id": "bac28b8b",
   "metadata": {},
   "outputs": [],
   "source": [
    "import sys\n",
    "import os\n",
    "\n",
    "sys.path.append(\"src\")\n",
    "\n",
    "from config import DATASET_PATH, TEST_SIZE\n",
    "from data_loader import load_and_split_dataset\n",
    "from sift_bow_extractor import (\n",
    "    extract_color_sift_features,\n",
    "    create_visual_vocabulary,\n",
    "    extract_bow_features\n",
    ")\n",
    "from classifier import train_and_evaluate_svm, train_and_evaluate_knn\n",
    "from utils import evaluate_model\n",
    "from joblib import dump"
   ]
  },
  {
   "cell_type": "code",
   "execution_count": 2,
   "id": "b9537ee6",
   "metadata": {},
   "outputs": [
    {
     "name": "stdout",
     "output_type": "stream",
     "text": [
      "✅ Loaded: 9600 training images, 2400 testing images\n"
     ]
    }
   ],
   "source": [
    "(train_images, train_labels), (test_images, test_labels), classes = load_and_split_dataset(\n",
    "    DATASET_PATH, test_size=TEST_SIZE, sample_ratio=1\n",
    ")\n",
    "\n",
    "print(f\"✅ Loaded: {len(train_images)} training images, {len(test_images)} testing images\")"
   ]
  },
  {
   "cell_type": "code",
   "execution_count": 3,
   "id": "4dcdb72e",
   "metadata": {},
   "outputs": [
    {
     "name": "stderr",
     "output_type": "stream",
     "text": [
      "Extracting RGB SIFT: 100%|██████████████████| 9600/9600 [03:52<00:00, 41.36it/s]\n",
      "Extracting RGB SIFT: 100%|██████████████████| 2400/2400 [01:02<00:00, 38.15it/s]\n"
     ]
    }
   ],
   "source": [
    "train_descriptors = extract_color_sift_features(train_images)\n",
    "test_descriptors = extract_color_sift_features(test_images)"
   ]
  },
  {
   "cell_type": "code",
   "execution_count": 4,
   "id": "f66d3194",
   "metadata": {},
   "outputs": [
    {
     "name": "stderr",
     "output_type": "stream",
     "text": [
      "/Users/chenyangyang/anaconda3/lib/python3.11/site-packages/sklearn/cluster/_kmeans.py:1930: FutureWarning: The default value of `n_init` will change from 3 to 'auto' in 1.4. Set the value of `n_init` explicitly to suppress the warning\n",
      "  super()._check_params_vs_input(X, default_n_init=3)\n"
     ]
    }
   ],
   "source": [
    "kmeans = create_visual_vocabulary(train_descriptors)"
   ]
  },
  {
   "cell_type": "code",
   "execution_count": 6,
   "id": "3757aa09",
   "metadata": {},
   "outputs": [],
   "source": [
    "X_train = extract_bow_features(train_descriptors, kmeans)\n",
    "X_test  = extract_bow_features(test_descriptors, kmeans)"
   ]
  },
  {
   "cell_type": "code",
   "execution_count": 7,
   "id": "163bf79d",
   "metadata": {
    "scrolled": false
   },
   "outputs": [
    {
     "name": "stdout",
     "output_type": "stream",
     "text": [
      "🔧 Training SVM classifier...\n",
      "✅ SVM classifier training complete!\n",
      "\n",
      "═══ Evaluation Summary ═══\n",
      "✅ Accuracy       : 0.4796\n",
      "🎯 Precision      : 0.4879\n",
      "🔁 Recall         : 0.4796\n",
      "📊 F1-Score       : 0.4483\n",
      "\n",
      "🧩 Confusion Matrix:\n",
      "[[ 74   3   3  17   9   1   2   8   5   4   0   0   9  21   4]\n",
      " [  4  59   2  30   1   2   0   7   1   6   0  21  16  11   0]\n",
      " [  5   1  63  19   3   3   5   5   7  15   1   5   5  21   2]\n",
      " [  0  10   0 133   0   0   0   0   0   0   0   7   3   7   0]\n",
      " [  4   0   2   9  53  11  16   3   1  30   3   1   8  17   2]\n",
      " [  1   0   0   8   3 134   6   0   0   4   0   0   0   4   0]\n",
      " [ 10   0   5   3   6  45  53   4   3   4   3   2   5  17   0]\n",
      " [  8  11   1  10   0   3   0  46   2   2   0   2  55  20   0]\n",
      " [  6   7  10  27   5  12   6  11  12  30   0   3   1  30   0]\n",
      " [  1   1   3  10   2   1   0   0   1 128   0   1   4   7   1]\n",
      " [  1   6   1   4   0   1   1   2   2   0 111   3   3  25   0]\n",
      " [  2  13   2  71   0   0   0   0   2   5   2  56   7   0   0]\n",
      " [  0   8   0  32   0   0   0   5   0  12   0   9  94   0   0]\n",
      " [  0   2   0  21   0   0   0   0   0   0   0   1   2 134   0]\n",
      " [ 19  10   8  34   3   8   2   3   8  32   0   8   2  22   1]]\n",
      "\n",
      "📝 Classification Report:\n",
      "              precision    recall  f1-score   support\n",
      "\n",
      " Agriculture       0.55      0.46      0.50       160\n",
      "     Airport       0.45      0.37      0.41       160\n",
      "       Beach       0.63      0.39      0.48       160\n",
      "        City       0.31      0.83      0.45       160\n",
      "      Desert       0.62      0.33      0.43       160\n",
      "      Forest       0.61      0.84      0.70       160\n",
      "   Grassland       0.58      0.33      0.42       160\n",
      "     Highway       0.49      0.29      0.36       160\n",
      "        Lake       0.27      0.07      0.12       160\n",
      "    Mountain       0.47      0.80      0.59       160\n",
      "     Parking       0.93      0.69      0.79       160\n",
      "        Port       0.47      0.35      0.40       160\n",
      "     Railway       0.44      0.59      0.50       160\n",
      " Residential       0.40      0.84      0.54       160\n",
      "       River       0.10      0.01      0.01       160\n",
      "\n",
      "    accuracy                           0.48      2400\n",
      "   macro avg       0.49      0.48      0.45      2400\n",
      "weighted avg       0.49      0.48      0.45      2400\n",
      "\n"
     ]
    }
   ],
   "source": [
    "svm_model, y_pred_svm = train_and_evaluate_svm(X_train, X_test, train_labels, test_labels)\n",
    "evaluate_model(test_labels, y_pred_svm, classes)"
   ]
  },
  {
   "cell_type": "code",
   "execution_count": 8,
   "id": "89f23f06",
   "metadata": {},
   "outputs": [
    {
     "name": "stdout",
     "output_type": "stream",
     "text": [
      "🔧 Training KNN classifier (k=5)...\n",
      "✅ KNN classifier training complete!\n",
      "\n",
      "═══ Evaluation Summary ═══\n",
      "✅ Accuracy       : 0.5958\n",
      "🎯 Precision      : 0.6140\n",
      "🔁 Recall         : 0.5958\n",
      "📊 F1-Score       : 0.5863\n",
      "\n",
      "🧩 Confusion Matrix:\n",
      "[[ 93   8   0   7   3   1   1  10   4   1   1   1   7  13  10]\n",
      " [  2  97   0  14   3   1   0   8   1   1   1   2  17   7   6]\n",
      " [ 14  10  59  13   1   1   2   9  16   4   0   5   5   8  13]\n",
      " [  1   5   0 140   0   0   0   1   0   0   0   4   5   4   0]\n",
      " [ 14   1   6   4  85   6   7   3   9  15   4   0   3   1   2]\n",
      " [  2   0   0   0   1 144   6   0   2   0   0   0   0   3   2]\n",
      " [ 13   4   9   1  22  15  66   7  10   1   3   0   1   4   4]\n",
      " [  3  11   1   9   0   0   0  91   1   1   1   1  31   9   1]\n",
      " [ 13  13   8   6   6   4   1  10  48   9   1   4   4  13  20]\n",
      " [  5   2   2   5   2   0   0   0   7 127   0   0   4   1   5]\n",
      " [  1   6   0   6   1   0   1   8   2   0 123   2   3   6   1]\n",
      " [  2  24   0  45   0   0   0   2   3   3   0  61  15   2   3]\n",
      " [  0  10   0  11   0   0   0  17   0   0   0   2 117   1   2]\n",
      " [  2   2   1  12   0   0   0   2   6   3   0   0   0 131   1]\n",
      " [ 15  15   6  22   1   4   0  10  13  11   1   3   4   7  48]]\n",
      "\n",
      "📝 Classification Report:\n",
      "              precision    recall  f1-score   support\n",
      "\n",
      " Agriculture       0.52      0.58      0.55       160\n",
      "     Airport       0.47      0.61      0.53       160\n",
      "       Beach       0.64      0.37      0.47       160\n",
      "        City       0.47      0.88      0.62       160\n",
      "      Desert       0.68      0.53      0.60       160\n",
      "      Forest       0.82      0.90      0.86       160\n",
      "   Grassland       0.79      0.41      0.54       160\n",
      "     Highway       0.51      0.57      0.54       160\n",
      "        Lake       0.39      0.30      0.34       160\n",
      "    Mountain       0.72      0.79      0.76       160\n",
      "     Parking       0.91      0.77      0.83       160\n",
      "        Port       0.72      0.38      0.50       160\n",
      "     Railway       0.54      0.73      0.62       160\n",
      " Residential       0.62      0.82      0.71       160\n",
      "       River       0.41      0.30      0.35       160\n",
      "\n",
      "    accuracy                           0.60      2400\n",
      "   macro avg       0.61      0.60      0.59      2400\n",
      "weighted avg       0.61      0.60      0.59      2400\n",
      "\n"
     ]
    }
   ],
   "source": [
    "knn_model, y_pred_knn = train_and_evaluate_knn(X_train, X_test, train_labels, test_labels, k=5)\n",
    "evaluate_model(test_labels, y_pred_knn, classes)"
   ]
  },
  {
   "cell_type": "code",
   "execution_count": 9,
   "id": "fdecac53",
   "metadata": {},
   "outputs": [
    {
     "name": "stdout",
     "output_type": "stream",
     "text": [
      "✅ Models saved to 'models/' folder.\n"
     ]
    }
   ],
   "source": [
    "os.makedirs(\"models\", exist_ok=True)\n",
    "\n",
    "dump(svm_model, \"models/svm_model.joblib\")\n",
    "dump(knn_model, \"models/knn_model.joblib\")\n",
    "\n",
    "print(\"✅ Models saved to 'models/' folder.\")"
   ]
  },
  {
   "cell_type": "code",
   "execution_count": null,
   "id": "19895421",
   "metadata": {},
   "outputs": [],
   "source": []
  }
 ],
 "metadata": {
  "kernelspec": {
   "display_name": "Python 3 (ipykernel)",
   "language": "python",
   "name": "python3"
  },
  "language_info": {
   "codemirror_mode": {
    "name": "ipython",
    "version": 3
   },
   "file_extension": ".py",
   "mimetype": "text/x-python",
   "name": "python",
   "nbconvert_exporter": "python",
   "pygments_lexer": "ipython3",
   "version": "3.11.4"
  }
 },
 "nbformat": 4,
 "nbformat_minor": 5
}
