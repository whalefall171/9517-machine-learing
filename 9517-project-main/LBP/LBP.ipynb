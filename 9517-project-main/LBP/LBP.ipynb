{
  "nbformat": 4,
  "nbformat_minor": 0,
  "metadata": {
    "colab": {
      "provenance": [],
      "gpuType": "T4"
    },
    "kernelspec": {
      "name": "python3",
      "display_name": "Python 3"
    },
    "language_info": {
      "name": "python"
    },
    "accelerator": "GPU"
  },
  "cells": [
    {
      "cell_type": "code",
      "source": [
        "!ls\n",
        "import os\n",
        "os.chdir(\"/content/drive/MyDrive/9517/group\")\n",
        "!ls"
      ],
      "metadata": {
        "colab": {
          "base_uri": "https://localhost:8080/"
        },
        "id": "Ja8W5JEBs0B9",
        "outputId": "164c7f06-f3dd-4dee-ea1a-10dab020d313"
      },
      "execution_count": 1,
      "outputs": [
        {
          "output_type": "stream",
          "name": "stdout",
          "text": [
            "drive  sample_data\n",
            "Aerial_Landscapes  knn_model.pkl  LBP.ipynb  svm_model.pkl  test\n"
          ]
        }
      ]
    },
    {
      "cell_type": "code",
      "source": [
        "import os\n",
        "import cv2\n",
        "import numpy as np\n",
        "import joblib\n",
        "from skimage.feature import local_binary_pattern\n",
        "from sklearn.model_selection import train_test_split\n",
        "from sklearn.svm import SVC\n",
        "from sklearn.neighbors import KNeighborsClassifier\n",
        "from sklearn.metrics import classification_report, accuracy_score, precision_score, recall_score, f1_score, confusion_matrix\n",
        "from sklearn.preprocessing import LabelEncoder, StandardScaler\n",
        "import matplotlib.pyplot as plt\n",
        "\n",
        "# ================================\n",
        "# Parameter settings\n",
        "# ================================\n",
        "radius = 3\n",
        "n_points = 8 * radius\n",
        "METHOD = 'uniform'\n",
        "\n",
        "# ================================\n",
        "# Extract LBP features\n",
        "# ================================\n",
        "def extract_lbp_features(image):\n",
        "    lbp = local_binary_pattern(image, n_points, radius, METHOD)\n",
        "    hist, _ = np.histogram(lbp.ravel(),\n",
        "                           bins=np.arange(0, n_points + 3),\n",
        "                           range=(0, n_points + 2))\n",
        "    hist = hist.astype(\"float\")\n",
        "    hist /= (hist.sum() + 1e-6)\n",
        "    return hist\n",
        "\n",
        "# ================================\n",
        "# Load dataset and extract features\n",
        "# ================================\n",
        "def load_lbp_dataset(dataset_path):\n",
        "    data = []\n",
        "    labels = []\n",
        "    label_names = []\n",
        "\n",
        "    for label in os.listdir(dataset_path):\n",
        "        folder_path = os.path.join(dataset_path, label)\n",
        "        if not os.path.isdir(folder_path):\n",
        "            continue\n",
        "        for file in os.listdir(folder_path):\n",
        "            file_path = os.path.join(folder_path, file)\n",
        "            img = cv2.imread(file_path, cv2.IMREAD_GRAYSCALE)\n",
        "            img = cv2.resize(img, (64, 64))\n",
        "            features = extract_lbp_features(img)\n",
        "            data.append(features)\n",
        "            labels.append(label)  # Keep string labels\n",
        "            label_names.append(label)\n",
        "\n",
        "    # Convert string labels to numbers\n",
        "    le = LabelEncoder()\n",
        "    labels_encoded = le.fit_transform(labels)\n",
        "    return np.array(data), np.array(labels_encoded), le\n",
        "\n",
        "# ================================\n",
        "# Model Training and Evaluation\n",
        "# ================================\n",
        "def train_and_evaluate(X_train, X_test, y_train, y_test, classifier='knn', save_model=False, model_filename=\"model.pkl\"):\n",
        "    if classifier == 'knn':\n",
        "        model = KNeighborsClassifier(n_neighbors=3)\n",
        "    elif classifier == 'svm':\n",
        "        model = SVC(kernel='linear')\n",
        "    else:\n",
        "        raise ValueError(\"Classifier must be 'knn' or 'svm'\")\n",
        "\n",
        "    model.fit(X_train, y_train)\n",
        "\n",
        "    # Save model if required\n",
        "    if save_model:\n",
        "        joblib.dump(model, model_filename)\n",
        "        print(f\"Model saved as {model_filename}\")\n",
        "\n",
        "    y_pred = model.predict(X_test)\n",
        "\n",
        "    acc = accuracy_score(y_test, y_pred)\n",
        "    prec = precision_score(y_test, y_pred, average='weighted', zero_division=0)\n",
        "    rec = recall_score(y_test, y_pred, average='weighted', zero_division=0)\n",
        "    f1 = f1_score(y_test, y_pred, average='weighted', zero_division=0)\n",
        "\n",
        "    print(f\"\\n Results for {classifier.upper()}:\")\n",
        "    print(f\"Accuracy:  {acc:.4f}\")\n",
        "    print(f\"Precision: {prec:.4f}\")\n",
        "    print(f\"Recall:    {rec:.4f}\")\n",
        "    print(f\"F1-score:  {f1:.4f}\")\n",
        "    print(\"\\nClassification Report:\\n\")\n",
        "    print(classification_report(y_test, y_pred, zero_division=0))\n",
        "    cm = confusion_matrix(y_test, y_pred)\n",
        "    print(\"\\nConfusion Matrix:\")\n",
        "    print(cm)\n",
        "    plot_metrics(acc, prec, rec, f1, classifier_name=classifier.upper())\n",
        "\n",
        "def plot_metrics(acc, prec, rec, f1, classifier_name=\"Classifier\"):\n",
        "    metrics = [acc, prec, rec, f1]\n",
        "    names = ['Accuracy', 'Precision', 'Recall', 'F1-score']\n",
        "    colors = ['#4caf50', '#2196f3', '#ff9800', '#9c27b0']\n",
        "\n",
        "    plt.figure(figsize=(8, 5))\n",
        "    plt.bar(names, metrics, color=colors)\n",
        "    plt.ylim(0, 1)\n",
        "    for i, v in enumerate(metrics):\n",
        "        plt.text(i, v + 0.02, f\"{v:.2f}\", ha='center', fontsize=10)\n",
        "    plt.title(f\"{classifier_name} Performance Metrics\")\n",
        "    plt.ylabel(\"Score\")\n",
        "    plt.grid(axis='y', linestyle='--', alpha=0.7)\n",
        "    plt.tight_layout()\n",
        "    plt.show()\n",
        "\n",
        "# ================================\n",
        "# Load a saved model\n",
        "# ================================\n",
        "def load_model(model_filename=\"model.pkl\"):\n",
        "    if os.path.exists(model_filename):\n",
        "        model = joblib.load(model_filename)\n",
        "        print(f\"Model loaded from {model_filename}\")\n",
        "        return model\n",
        "    else:\n",
        "        print(f\"Model file {model_filename} does not exist.\")\n",
        "        return None\n",
        "\n",
        "# ================================\n",
        "# Main function\n",
        "# ================================\n",
        "def main(dataset_path, classifier='knn', save_model=False, model_filename=\"model.pkl\"):\n",
        "    X, y, _ = load_lbp_dataset(dataset_path)\n",
        "    X_train, X_test, y_train, y_test = train_test_split(\n",
        "        X, y, test_size=0.2, random_state=42, stratify=y\n",
        "    )\n",
        "    # standardization\n",
        "    scaler = StandardScaler()\n",
        "    X_train = scaler.fit_transform(X_train)\n",
        "    X_test = scaler.transform(X_test)\n",
        "\n",
        "    # If a model already exists, load it; otherwise, train a new model\n",
        "    model = load_model(model_filename)\n",
        "    if model is None:\n",
        "        train_and_evaluate(X_train, X_test, y_train, y_test, classifier, save_model, model_filename)\n",
        "    else:\n",
        "        # If model exists, evaluate it on test data\n",
        "        y_pred = model.predict(X_test)\n",
        "        print(f\"\\nResults for loaded model:\")\n",
        "        acc = accuracy_score(y_test, y_pred)\n",
        "        prec = precision_score(y_test, y_pred, average='weighted', zero_division=0)\n",
        "        rec = recall_score(y_test, y_pred, average='weighted', zero_division=0)\n",
        "        f1 = f1_score(y_test, y_pred, average='weighted', zero_division=0)\n",
        "        plot_metrics(acc, prec, rec, f1, classifier_name=classifier.upper())\n",
        "\n",
        "        print(f\"Accuracy:  {acc:.4f}\")\n",
        "        print(f\"Precision: {prec:.4f}\")\n",
        "        print(f\"Recall:    {rec:.4f}\")\n",
        "        print(f\"F1-score:  {f1:.4f}\")\n",
        "        print(\"\\nClassification Report:\\n\")\n",
        "        print(classification_report(y_test, y_pred, zero_division=0))\n",
        "\n",
        "# ================================\n",
        "# Execute code\n",
        "# ================================\n",
        "dataset_path = 'Aerial_Landscapes'  # Replace with your dataset path\n",
        "main(dataset_path, classifier='knn', save_model=True, model_filename=\"knn_model.pkl\")  # Optional 'knn' or 'svm'\n"
      ],
      "metadata": {
        "colab": {
          "base_uri": "https://localhost:8080/",
          "height": 1000
        },
        "id": "bWihmpbmEjXP",
        "outputId": "b82ecd30-cbc8-441d-8341-d678f8b7b0a4"
      },
      "execution_count": 4,
      "outputs": [
        {
          "output_type": "stream",
          "name": "stdout",
          "text": [
            "Model loaded from knn_model.pkl\n",
            "\n",
            "Results for loaded model:\n"
          ]
        },
        {
          "output_type": "display_data",
          "data": {
            "text/plain": [
              "<Figure size 800x500 with 1 Axes>"
            ],
            "image/png": "[encoded data removed]"
          },
          "metadata": {}
        },
        {
          "output_type": "stream",
          "name": "stdout",
          "text": [
            "Accuracy:  0.3542\n",
            "Precision: 0.3851\n",
            "Recall:    0.3542\n",
            "F1-score:  0.3487\n",
            "\n",
            "Classification Report:\n",
            "\n",
            "              precision    recall  f1-score   support\n",
            "\n",
            "           0       0.24      0.39      0.30       160\n",
            "           1       0.17      0.32      0.22       160\n",
            "           2       0.41      0.68      0.51       160\n",
            "           3       0.23      0.34      0.27       160\n",
            "           4       0.39      0.32      0.35       160\n",
            "           5       0.48      0.63      0.55       160\n",
            "           6       0.42      0.56      0.48       160\n",
            "           7       0.23      0.16      0.19       160\n",
            "           8       0.38      0.31      0.34       160\n",
            "           9       0.32      0.26      0.29       160\n",
            "          10       0.60      0.38      0.46       160\n",
            "          11       0.67      0.32      0.43       160\n",
            "          12       0.38      0.14      0.21       160\n",
            "          13       0.55      0.38      0.45       160\n",
            "          14       0.31      0.12      0.18       160\n",
            "\n",
            "    accuracy                           0.35      2400\n",
            "   macro avg       0.39      0.35      0.35      2400\n",
            "weighted avg       0.39      0.35      0.35      2400\n",
            "\n"
          ]
        }
      ]
    },
    {
      "cell_type": "code",
      "source": [
        "dataset_path = 'Aerial_Landscapes'  # Replace with dataset path\n",
        "main(dataset_path, classifier='svm', save_model=True, model_filename=\"svm_model.pkl\")"
      ],
      "metadata": {
        "colab": {
          "base_uri": "https://localhost:8080/",
          "height": 1000
        },
        "id": "6n538go0X993",
        "outputId": "1e016f73-8698-420b-d0ef-742c98cddf8f"
      },
      "execution_count": 5,
      "outputs": [
        {
          "output_type": "stream",
          "name": "stdout",
          "text": [
            "Model loaded from svm_model.pkl\n",
            "\n",
            "Results for loaded model:\n"
          ]
        },
        {
          "output_type": "display_data",
          "data": {
            "text/plain": [
              "<Figure size 800x500 with 1 Axes>"
            ],
            "image/png": "[encoded data removed]"
          },
          "metadata": {}
        },
        {
          "output_type": "stream",
          "name": "stdout",
          "text": [
            "Accuracy:  0.4746\n",
            "Precision: 0.4704\n",
            "Recall:    0.4746\n",
            "F1-score:  0.4707\n",
            "\n",
            "Classification Report:\n",
            "\n",
            "              precision    recall  f1-score   support\n",
            "\n",
            "           0       0.38      0.43      0.40       160\n",
            "           1       0.35      0.29      0.32       160\n",
            "           2       0.59      0.62      0.60       160\n",
            "           3       0.40      0.43      0.41       160\n",
            "           4       0.45      0.47      0.46       160\n",
            "           5       0.62      0.64      0.63       160\n",
            "           6       0.53      0.61      0.57       160\n",
            "           7       0.34      0.28      0.30       160\n",
            "           8       0.47      0.39      0.42       160\n",
            "           9       0.35      0.44      0.39       160\n",
            "          10       0.66      0.67      0.67       160\n",
            "          11       0.64      0.59      0.61       160\n",
            "          12       0.36      0.34      0.35       160\n",
            "          13       0.63      0.69      0.66       160\n",
            "          14       0.28      0.23      0.25       160\n",
            "\n",
            "    accuracy                           0.47      2400\n",
            "   macro avg       0.47      0.47      0.47      2400\n",
            "weighted avg       0.47      0.47      0.47      2400\n",
            "\n"
          ]
        }
      ]
    }
  ]
}